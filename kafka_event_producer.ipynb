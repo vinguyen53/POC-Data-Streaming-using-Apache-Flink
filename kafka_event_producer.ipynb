{
 "cells": [
  {
   "cell_type": "code",
   "execution_count": 9,
   "metadata": {},
   "outputs": [],
   "source": [
    "import json\n",
    "from kafka import KafkaProducer\n",
    "from kafka.errors import KafkaError"
   ]
  },
  {
   "cell_type": "code",
   "execution_count": 10,
   "metadata": {},
   "outputs": [
    {
     "name": "stdout",
     "output_type": "stream",
     "text": [
      "Message produced to topic 'orders' at offset 0\n",
      "Message produced to topic 'orders' at offset 1\n",
      "Message produced to topic 'orders' at offset 2\n",
      "Message produced to topic 'orders' at offset 3\n",
      "Message produced to topic 'orders' at offset 4\n",
      "Message produced to topic 'orders' at offset 5\n",
      "Message produced to topic 'orders' at offset 6\n",
      "Message produced to topic 'orders' at offset 7\n",
      "Message produced to topic 'orders' at offset 8\n",
      "Message produced to topic 'orders' at offset 9\n"
     ]
    }
   ],
   "source": [
    "producer = KafkaProducer(\n",
    "    bootstrap_servers = \"localhost:19092\",\n",
    "    value_serializer=lambda m: json.dumps(m).encode('ascii')\n",
    ")\n",
    "\n",
    "topic = \"orders\"\n",
    "\n",
    "def on_success(metadata):\n",
    "  print(f\"Message produced to topic '{metadata.topic}' at offset {metadata.offset}\")\n",
    "\n",
    "def on_error(e):\n",
    "  print(f\"Error sending message: {e}\")\n",
    "\n",
    "# Produce asynchronously with callbacks\n",
    "for i in range(1, 11):\n",
    "  msg = { \"id\": i, \"content\": \"Some value\"}\n",
    "  future = producer.send(topic, msg)\n",
    "  future.add_callback(on_success)\n",
    "  future.add_errback(on_error)\n",
    "\n",
    "producer.flush()\n",
    "producer.close()\n"
   ]
  }
 ],
 "metadata": {
  "kernelspec": {
   "display_name": "Python 3",
   "language": "python",
   "name": "python3"
  },
  "language_info": {
   "codemirror_mode": {
    "name": "ipython",
    "version": 3
   },
   "file_extension": ".py",
   "mimetype": "text/x-python",
   "name": "python",
   "nbconvert_exporter": "python",
   "pygments_lexer": "ipython3",
   "version": "3.10.12"
  }
 },
 "nbformat": 4,
 "nbformat_minor": 2
}
